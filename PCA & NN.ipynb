{
 "cells": [
  {
   "cell_type": "markdown",
   "metadata": {},
   "source": [
    "### **Importing Libraries and Creating Functions**"
   ]
  },
  {
   "cell_type": "code",
   "execution_count": 8,
   "metadata": {},
   "outputs": [],
   "source": [
    "import pandas as pd\n",
    "import numpy as np\n",
    "import matplotlib.pyplot as plt\n",
    "import cv2\n",
    "import os\n",
    "import time\n",
    "\n",
    "from sklearn.preprocessing import StandardScaler\n",
    "from sklearn.model_selection import train_test_split\n",
    "from sklearn.metrics import confusion_matrix, accuracy_score\n",
    "from sklearn.linear_model import LogisticRegression\n",
    "from sklearn.discriminant_analysis import LinearDiscriminantAnalysis\n",
    "from sklearn.decomposition import PCA\n",
    "from sklearn.neighbors import KNeighborsClassifier\n",
    "from sklearn.cluster import KMeans\n",
    "\n",
    "from keras.preprocessing.image import load_img, ImageDataGenerator, array_to_img\n",
    "from keras import models\n",
    "from keras import layers\n",
    "from keras.utils import to_categorical\n",
    "from keras.callbacks import EarlyStopping, ModelCheckpoint"
   ]
  },
  {
   "cell_type": "code",
   "execution_count": 9,
   "metadata": {},
   "outputs": [],
   "source": [
    "def load_images_from_folder(folder):\n",
    "    images = []\n",
    "    for filename in os.listdir(folder):\n",
    "        img = cv2.imread(os.path.join(folder,filename))\n",
    "        if img is not None:\n",
    "            img = cv2.cvtColor(img, cv2.COLOR_BGR2GRAY)\n",
    "            img = cv2.resize(img, (320, 320))\n",
    "            images.append(img)\n",
    "    return images"
   ]
  },
  {
   "cell_type": "code",
   "execution_count": 10,
   "metadata": {},
   "outputs": [],
   "source": [
    "def get_array(folder):\n",
    "    arrays = np.array(load_images_from_folder(folder))\n",
    "    arrays = np.reshape(arrays, (arrays.shape[0], arrays.shape[1]*arrays.shape[2]))\n",
    "    return arrays, arrays.shape[0]"
   ]
  },
  {
   "cell_type": "markdown",
   "metadata": {},
   "source": [
    "### **Loading and Pre-Processing**"
   ]
  },
  {
   "cell_type": "code",
   "execution_count": 11,
   "metadata": {},
   "outputs": [],
   "source": [
    "fist_folder = \"C:\\\\Users\\\\Jay\\\\Desktop\\\\SM Images\\\\Fist\\\\\"\n",
    "fist, count_fist = get_array(fist_folder)"
   ]
  },
  {
   "cell_type": "code",
   "execution_count": 12,
   "metadata": {},
   "outputs": [
    {
     "name": "stdout",
     "output_type": "stream",
     "text": [
      "(194, 102400)\n"
     ]
    }
   ],
   "source": [
    "print(fist.shape)"
   ]
  },
  {
   "cell_type": "code",
   "execution_count": 13,
   "metadata": {},
   "outputs": [],
   "source": [
    "tu_folder = \"C:\\\\Users\\\\Jay\\\\Desktop\\\\SM Images\\\\ThumbsUp\\\\\"\n",
    "thumbsup, count_tu = get_array(tu_folder)"
   ]
  },
  {
   "cell_type": "code",
   "execution_count": 14,
   "metadata": {},
   "outputs": [
    {
     "name": "stdout",
     "output_type": "stream",
     "text": [
      "(510, 102400)\n"
     ]
    }
   ],
   "source": [
    "print(thumbsup.shape)"
   ]
  },
  {
   "cell_type": "code",
   "execution_count": 15,
   "metadata": {},
   "outputs": [],
   "source": [
    "yo_folder = \"C:\\\\Users\\\\Jay\\\\Desktop\\\\SM Images\\\\Yo\\\\\"\n",
    "yo, count_yo = get_array(yo_folder)"
   ]
  },
  {
   "cell_type": "code",
   "execution_count": 16,
   "metadata": {},
   "outputs": [
    {
     "name": "stdout",
     "output_type": "stream",
     "text": [
      "(788, 102400)\n"
     ]
    }
   ],
   "source": [
    "print(yo.shape)"
   ]
  },
  {
   "cell_type": "code",
   "execution_count": 17,
   "metadata": {},
   "outputs": [],
   "source": [
    "five_folder = \"C:\\\\Users\\\\Jay\\\\Desktop\\\\SM Images\\\\5\\\\\"\n",
    "five, count_five = get_array(five_folder)"
   ]
  },
  {
   "cell_type": "code",
   "execution_count": 18,
   "metadata": {},
   "outputs": [
    {
     "name": "stdout",
     "output_type": "stream",
     "text": [
      "(479, 102400)\n"
     ]
    }
   ],
   "source": [
    "print(five.shape)"
   ]
  },
  {
   "cell_type": "code",
   "execution_count": 19,
   "metadata": {},
   "outputs": [],
   "source": [
    "two_folder = \"C:\\\\Users\\\\Jay\\\\Desktop\\\\SM Images\\\\2\\\\\"\n",
    "two, count_two = get_array(two_folder)"
   ]
  },
  {
   "cell_type": "code",
   "execution_count": 20,
   "metadata": {},
   "outputs": [
    {
     "name": "stdout",
     "output_type": "stream",
     "text": [
      "(484, 102400)\n"
     ]
    }
   ],
   "source": [
    "print(two.shape)"
   ]
  },
  {
   "cell_type": "code",
   "execution_count": 21,
   "metadata": {},
   "outputs": [],
   "source": [
    "blank_folder = \"C:\\\\Users\\\\Jay\\\\Desktop\\\\SM Images\\\\Blank\\\\\"\n",
    "blank, count_blank = get_array(blank_folder)"
   ]
  },
  {
   "cell_type": "code",
   "execution_count": 22,
   "metadata": {},
   "outputs": [
    {
     "name": "stdout",
     "output_type": "stream",
     "text": [
      "(192, 102400)\n"
     ]
    }
   ],
   "source": [
    "print(blank.shape)"
   ]
  },
  {
   "cell_type": "markdown",
   "metadata": {},
   "source": [
    "### **Assigning Labels and Compiling the Data**"
   ]
  },
  {
   "cell_type": "code",
   "execution_count": 23,
   "metadata": {},
   "outputs": [],
   "source": [
    "y = np.array([0 for i in range(count_fist)])\n",
    "y = np.append(y, np.array([1 for i in range(count_tu)]))\n",
    "y = np.append(y, np.array([2 for i in range(count_yo)]))\n",
    "y = np.append(y, np.array([3 for i in range(count_five)]))\n",
    "y = np.append(y, np.array([4 for i in range(count_two)]))\n",
    "y = np.append(y, np.array([5 for i in range(count_blank)]))"
   ]
  },
  {
   "cell_type": "code",
   "execution_count": 24,
   "metadata": {},
   "outputs": [],
   "source": [
    "y = to_categorical(y)"
   ]
  },
  {
   "cell_type": "code",
   "execution_count": 25,
   "metadata": {},
   "outputs": [
    {
     "data": {
      "text/plain": [
       "(2647, 6)"
      ]
     },
     "execution_count": 25,
     "metadata": {},
     "output_type": "execute_result"
    }
   ],
   "source": [
    "y.shape"
   ]
  },
  {
   "cell_type": "code",
   "execution_count": 26,
   "metadata": {},
   "outputs": [
    {
     "data": {
      "text/plain": [
       "(2647, 102400)"
      ]
     },
     "execution_count": 26,
     "metadata": {},
     "output_type": "execute_result"
    }
   ],
   "source": [
    "x = np.vstack((fist, thumbsup, yo, five, two, blank))\n",
    "x.shape"
   ]
  },
  {
   "cell_type": "code",
   "execution_count": 27,
   "metadata": {},
   "outputs": [
    {
     "data": {
      "image/png": "[encoded data removed]",
      "text/plain": [
       "<Figure size 576x432 with 20 Axes>"
      ]
     },
     "metadata": {},
     "output_type": "display_data"
    }
   ],
   "source": [
    "fig = plt.figure(figsize=(8, 6))\n",
    "for i in range(20):\n",
    "    ax = fig.add_subplot(4, 5, i + 1, xticks=[], yticks=[])\n",
    "    ax.imshow(x[i+100].reshape(320,320), cmap=plt.cm.bone)"
   ]
  },
  {
   "cell_type": "markdown",
   "metadata": {},
   "source": [
    "### **Principal Component Analysis**"
   ]
  },
  {
   "cell_type": "code",
   "execution_count": 28,
   "metadata": {},
   "outputs": [
    {
     "data": {
      "text/plain": [
       "PCA()"
      ]
     },
     "execution_count": 28,
     "metadata": {},
     "output_type": "execute_result"
    }
   ],
   "source": [
    "pca = PCA()\n",
    "pca.fit(x)"
   ]
  },
  {
   "cell_type": "code",
   "execution_count": 29,
   "metadata": {},
   "outputs": [
    {
     "data": {
      "text/plain": [
       "Text(0, 0.5, 'Cumulative Explained Variance')"
      ]
     },
     "execution_count": 29,
     "metadata": {},
     "output_type": "execute_result"
    },
    {
     "data": {
      "image/png": "[encoded data removed]",
      "text/plain": [
       "<Figure size 432x288 with 1 Axes>"
      ]
     },
     "metadata": {
      "needs_background": "light"
     },
     "output_type": "display_data"
    }
   ],
   "source": [
    "plt.plot(np.cumsum(pca.explained_variance_ratio_))\n",
    "plt.xlabel('Number of Components')\n",
    "plt.ylabel('Cumulative Explained Variance')"
   ]
  },
  {
   "cell_type": "code",
   "execution_count": 30,
   "metadata": {},
   "outputs": [
    {
     "data": {
      "text/plain": [
       "0.9569496432022787"
      ]
     },
     "execution_count": 30,
     "metadata": {},
     "output_type": "execute_result"
    }
   ],
   "source": [
    "sum(pca.explained_variance_ratio_[0:400])"
   ]
  },
  {
   "cell_type": "code",
   "execution_count": 31,
   "metadata": {},
   "outputs": [],
   "source": [
    "pca = PCA(400)\n",
    "x = pca.fit_transform(x)"
   ]
  },
  {
   "cell_type": "code",
   "execution_count": 32,
   "metadata": {},
   "outputs": [],
   "source": [
    "import pickle as pk   \n",
    "pk.dump(pca, open(\"pca_400.pkl\",\"wb\"))"
   ]
  },
  {
   "cell_type": "markdown",
   "metadata": {},
   "source": [
    "### **Splitting Test and Train Datasets**"
   ]
  },
  {
   "cell_type": "code",
   "execution_count": 33,
   "metadata": {},
   "outputs": [
    {
     "name": "stdout",
     "output_type": "stream",
     "text": [
      "(2117, 400) (2117, 6)\n",
      "(530, 400) (530, 6)\n"
     ]
    }
   ],
   "source": [
    "x_train, x_test, y_train, y_test = train_test_split(x, y, test_size = 0.2, shuffle = True)\n",
    "print(x_train.shape, y_train.shape)\n",
    "print(x_test.shape, y_test.shape)"
   ]
  },
  {
   "cell_type": "markdown",
   "metadata": {},
   "source": [
    "### **Creating an Artificial Neural Networks Model**"
   ]
  },
  {
   "cell_type": "code",
   "execution_count": 34,
   "metadata": {},
   "outputs": [],
   "source": [
    "nn = models.Sequential()\n",
    "nn.add(layers.Dense(512, activation = 'relu', input_shape = (400,)))\n",
    "nn.add(layers.Dense(256, activation = 'relu'))\n",
    "nn.add(layers.Dense(64, activation = 'relu'))\n",
    "nn.add(layers.Dense(6, activation = 'softmax'))\n",
    "nn.compile(loss = 'categorical_crossentropy', metrics = ['accuracy'], optimizer = 'adam')"
   ]
  },
  {
   "cell_type": "code",
   "execution_count": 35,
   "metadata": {},
   "outputs": [
    {
     "name": "stdout",
     "output_type": "stream",
     "text": [
      "Epoch 1/100\n",
      "31/34 [==========================>...] - ETA: 0s - loss: 119.8026 - accuracy: 0.7910\n",
      "Epoch 00001: saving model to best_model_PCA_400.hdf5\n",
      "34/34 [==============================] - 0s 14ms/step - loss: 111.4679 - accuracy: 0.8015 - val_loss: 16.1527 - val_accuracy: 0.9292\n",
      "Epoch 2/100\n",
      "31/34 [==========================>...] - ETA: 0s - loss: 4.7002 - accuracy: 0.9729\n",
      "Epoch 00002: saving model to best_model_PCA_400.hdf5\n",
      "34/34 [==============================] - 0s 5ms/step - loss: 4.3622 - accuracy: 0.9740 - val_loss: 5.3697 - val_accuracy: 0.9717\n",
      "Epoch 3/100\n",
      "31/34 [==========================>...] - ETA: 0s - loss: 1.5238 - accuracy: 0.9897\n",
      "Epoch 00003: saving model to best_model_PCA_400.hdf5\n",
      "34/34 [==============================] - 0s 5ms/step - loss: 1.3951 - accuracy: 0.9905 - val_loss: 4.0761 - val_accuracy: 0.9717\n",
      "Epoch 4/100\n",
      "31/34 [==========================>...] - ETA: 0s - loss: 0.5721 - accuracy: 0.9929\n",
      "Epoch 00004: saving model to best_model_PCA_400.hdf5\n",
      "34/34 [==============================] - 0s 6ms/step - loss: 0.5238 - accuracy: 0.9935 - val_loss: 5.3119 - val_accuracy: 0.9741\n",
      "Epoch 5/100\n",
      "29/34 [========================>.....] - ETA: 0s - loss: 0.8462 - accuracy: 0.9924\n",
      "Epoch 00005: saving model to best_model_PCA_400.hdf5\n",
      "34/34 [==============================] - 0s 6ms/step - loss: 0.7247 - accuracy: 0.9935 - val_loss: 6.4904 - val_accuracy: 0.9764\n",
      "Epoch 6/100\n",
      "32/34 [===========================>..] - ETA: 0s - loss: 1.4598 - accuracy: 0.9944\n",
      "Epoch 00006: saving model to best_model_PCA_400.hdf5\n",
      "34/34 [==============================] - 0s 6ms/step - loss: 1.7299 - accuracy: 0.9935 - val_loss: 3.3741 - val_accuracy: 0.9882\n",
      "Epoch 7/100\n",
      "30/34 [=========================>....] - ETA: 0s - loss: 0.8893 - accuracy: 0.9973  \n",
      "Epoch 00007: saving model to best_model_PCA_400.hdf5\n",
      "34/34 [==============================] - 0s 6ms/step - loss: 0.7879 - accuracy: 0.9976 - val_loss: 4.4968 - val_accuracy: 0.9811\n",
      "Epoch 8/100\n",
      "32/34 [===========================>..] - ETA: 0s - loss: 0.1062 - accuracy: 0.9981    \n",
      "Epoch 00008: saving model to best_model_PCA_400.hdf5\n",
      "34/34 [==============================] - 0s 5ms/step - loss: 0.1004 - accuracy: 0.9982 - val_loss: 4.2828 - val_accuracy: 0.9835\n",
      "Epoch 9/100\n",
      "30/34 [=========================>....] - ETA: 0s - loss: 0.1792 - accuracy: 0.9993    \n",
      "Epoch 00009: saving model to best_model_PCA_400.hdf5\n",
      "34/34 [==============================] - 0s 6ms/step - loss: 0.2764 - accuracy: 0.9982 - val_loss: 5.1891 - val_accuracy: 0.9788\n",
      "Epoch 10/100\n",
      "30/34 [=========================>....] - ETA: 0s - loss: 0.5465 - accuracy: 0.9947  \n",
      "Epoch 00010: saving model to best_model_PCA_400.hdf5\n",
      "34/34 [==============================] - 0s 6ms/step - loss: 0.4919 - accuracy: 0.9947 - val_loss: 6.7457 - val_accuracy: 0.9670\n",
      "Epoch 11/100\n",
      "31/34 [==========================>...] - ETA: 0s - loss: 1.8132 - accuracy: 0.9923  \n",
      "Epoch 00011: saving model to best_model_PCA_400.hdf5\n",
      "34/34 [==============================] - 0s 6ms/step - loss: 1.8335 - accuracy: 0.9917 - val_loss: 7.7530 - val_accuracy: 0.9599\n",
      "Epoch 12/100\n",
      "32/34 [===========================>..] - ETA: 0s - loss: 0.4499 - accuracy: 0.9962  \n",
      "Epoch 00012: saving model to best_model_PCA_400.hdf5\n",
      "34/34 [==============================] - 0s 5ms/step - loss: 0.5674 - accuracy: 0.9959 - val_loss: 7.2926 - val_accuracy: 0.9788\n",
      "Epoch 13/100\n",
      "30/34 [=========================>....] - ETA: 0s - loss: 3.1896 - accuracy: 0.9907  \n",
      "Epoch 00013: saving model to best_model_PCA_400.hdf5\n",
      "34/34 [==============================] - 0s 6ms/step - loss: 2.8485 - accuracy: 0.9911 - val_loss: 10.2987 - val_accuracy: 0.9575\n",
      "Epoch 14/100\n",
      "31/34 [==========================>...] - ETA: 0s - loss: 1.2940 - accuracy: 0.9916  \n",
      "Epoch 00014: saving model to best_model_PCA_400.hdf5\n",
      "34/34 [==============================] - 0s 6ms/step - loss: 1.2706 - accuracy: 0.9917 - val_loss: 2.6873 - val_accuracy: 0.9811\n",
      "Epoch 15/100\n",
      "31/34 [==========================>...] - ETA: 0s - loss: 0.3348 - accuracy: 0.9974  \n",
      "Epoch 00015: saving model to best_model_PCA_400.hdf5\n",
      "34/34 [==============================] - 0s 6ms/step - loss: 0.4119 - accuracy: 0.9965 - val_loss: 8.3634 - val_accuracy: 0.9693\n",
      "Epoch 16/100\n",
      "33/34 [============================>.] - ETA: 0s - loss: 0.3546 - accuracy: 0.9964\n",
      "Epoch 00016: saving model to best_model_PCA_400.hdf5\n",
      "34/34 [==============================] - 0s 5ms/step - loss: 0.4044 - accuracy: 0.9959 - val_loss: 1.9684 - val_accuracy: 0.9882\n",
      "Epoch 17/100\n",
      "31/34 [==========================>...] - ETA: 0s - loss: 0.0895 - accuracy: 0.9981  \n",
      "Epoch 00017: saving model to best_model_PCA_400.hdf5\n",
      "34/34 [==============================] - 0s 5ms/step - loss: 0.0819 - accuracy: 0.9982 - val_loss: 5.2011 - val_accuracy: 0.9764\n",
      "Epoch 18/100\n",
      "31/34 [==========================>...] - ETA: 0s - loss: 0.2517 - accuracy: 0.9981  \n",
      "Epoch 00018: saving model to best_model_PCA_400.hdf5\n",
      "34/34 [==============================] - 0s 6ms/step - loss: 0.2305 - accuracy: 0.9982 - val_loss: 5.6777 - val_accuracy: 0.9717\n",
      "Epoch 19/100\n",
      "32/34 [===========================>..] - ETA: 0s - loss: 0.5669 - accuracy: 0.9962  \n",
      "Epoch 00019: saving model to best_model_PCA_400.hdf5\n",
      "34/34 [==============================] - 0s 6ms/step - loss: 0.5357 - accuracy: 0.9965 - val_loss: 4.8384 - val_accuracy: 0.9858\n",
      "Epoch 20/100\n",
      "30/34 [=========================>....] - ETA: 0s - loss: 1.8030 - accuracy: 0.9960  \n",
      "Epoch 00020: saving model to best_model_PCA_400.hdf5\n",
      "34/34 [==============================] - 0s 6ms/step - loss: 1.5975 - accuracy: 0.9965 - val_loss: 10.3105 - val_accuracy: 0.9788\n",
      "Epoch 21/100\n",
      "32/34 [===========================>..] - ETA: 0s - loss: 0.4843 - accuracy: 0.9956\n",
      "Epoch 00021: saving model to best_model_PCA_400.hdf5\n",
      "34/34 [==============================] - 0s 5ms/step - loss: 0.4577 - accuracy: 0.9959 - val_loss: 4.4866 - val_accuracy: 0.9858\n",
      "Epoch 22/100\n",
      "30/34 [=========================>....] - ETA: 0s - loss: 1.8150 - accuracy: 0.9940  \n",
      "Epoch 00022: saving model to best_model_PCA_400.hdf5\n",
      "34/34 [==============================] - 0s 6ms/step - loss: 1.6661 - accuracy: 0.9941 - val_loss: 3.5612 - val_accuracy: 0.9929\n",
      "Epoch 23/100\n",
      "32/34 [===========================>..] - ETA: 0s - loss: 0.5274 - accuracy: 0.9975  \n",
      "Epoch 00023: saving model to best_model_PCA_400.hdf5\n",
      "34/34 [==============================] - 0s 5ms/step - loss: 0.5438 - accuracy: 0.9970 - val_loss: 5.7540 - val_accuracy: 0.9882\n",
      "Epoch 24/100\n",
      "33/34 [============================>.] - ETA: 0s - loss: 1.4965 - accuracy: 0.9952  \n",
      "Epoch 00024: saving model to best_model_PCA_400.hdf5\n",
      "34/34 [==============================] - 0s 5ms/step - loss: 1.4585 - accuracy: 0.9953 - val_loss: 9.5237 - val_accuracy: 0.9811\n",
      "Epoch 25/100\n",
      "33/34 [============================>.] - ETA: 0s - loss: 1.3687 - accuracy: 0.9915  \n",
      "Epoch 00025: saving model to best_model_PCA_400.hdf5\n",
      "34/34 [==============================] - 0s 6ms/step - loss: 1.3339 - accuracy: 0.9917 - val_loss: 9.2253 - val_accuracy: 0.9741\n",
      "Epoch 26/100\n",
      "34/34 [==============================] - ETA: 0s - loss: 3.7176 - accuracy: 0.9923  \n",
      "Epoch 00026: saving model to best_model_PCA_400.hdf5\n",
      "34/34 [==============================] - 0s 5ms/step - loss: 3.7176 - accuracy: 0.9923 - val_loss: 13.4120 - val_accuracy: 0.9646\n",
      "Epoch 27/100\n",
      "34/34 [==============================] - ETA: 0s - loss: 1.5318 - accuracy: 0.9947  \n",
      "Epoch 00027: saving model to best_model_PCA_400.hdf5\n",
      "34/34 [==============================] - 0s 5ms/step - loss: 1.5318 - accuracy: 0.9947 - val_loss: 12.6279 - val_accuracy: 0.9741\n",
      "Epoch 28/100\n",
      "33/34 [============================>.] - ETA: 0s - loss: 1.1434 - accuracy: 0.9939  \n",
      "Epoch 00028: saving model to best_model_PCA_400.hdf5\n",
      "34/34 [==============================] - 0s 5ms/step - loss: 1.1144 - accuracy: 0.9941 - val_loss: 3.8867 - val_accuracy: 0.9906\n",
      "Epoch 29/100\n",
      "32/34 [===========================>..] - ETA: 0s - loss: 4.7670 - accuracy: 0.9875  \n",
      "Epoch 00029: saving model to best_model_PCA_400.hdf5\n",
      "34/34 [==============================] - 0s 5ms/step - loss: 4.5052 - accuracy: 0.9882 - val_loss: 8.3674 - val_accuracy: 0.9811\n",
      "Epoch 30/100\n",
      "31/34 [==========================>...] - ETA: 0s - loss: 3.9072 - accuracy: 0.9910\n",
      "Epoch 00030: saving model to best_model_PCA_400.hdf5\n",
      "34/34 [==============================] - 0s 5ms/step - loss: 3.9324 - accuracy: 0.9888 - val_loss: 2.1291 - val_accuracy: 0.9906\n",
      "Epoch 31/100\n",
      "33/34 [============================>.] - ETA: 0s - loss: 3.0183 - accuracy: 0.9903  \n",
      "Epoch 00031: saving model to best_model_PCA_400.hdf5\n",
      "34/34 [==============================] - 0s 5ms/step - loss: 2.9417 - accuracy: 0.9905 - val_loss: 4.3772 - val_accuracy: 0.9882\n",
      "Epoch 32/100\n",
      "18/34 [==============>...............] - ETA: 0s - loss: 2.6666 - accuracy: 0.9911 \n",
      "Epoch 00032: saving model to best_model_PCA_400.hdf5\n",
      "34/34 [==============================] - 0s 5ms/step - loss: 3.7616 - accuracy: 0.9911 - val_loss: 1.4403 - val_accuracy: 0.9906\n",
      "Epoch 33/100\n",
      "33/34 [============================>.] - ETA: 0s - loss: 1.2773 - accuracy: 0.9970  \n",
      "Epoch 00033: saving model to best_model_PCA_400.hdf5\n",
      "34/34 [==============================] - 0s 5ms/step - loss: 1.2449 - accuracy: 0.9970 - val_loss: 1.9130 - val_accuracy: 0.9906\n",
      "Epoch 34/100\n",
      "33/34 [============================>.] - ETA: 0s - loss: 0.6775 - accuracy: 0.9970  \n",
      "Epoch 00034: saving model to best_model_PCA_400.hdf5\n",
      "34/34 [==============================] - 0s 5ms/step - loss: 0.6603 - accuracy: 0.9970 - val_loss: 3.5008 - val_accuracy: 0.9858\n",
      "Epoch 35/100\n",
      "34/34 [==============================] - ETA: 0s - loss: 0.3152 - accuracy: 0.9988  \n",
      "Epoch 00035: saving model to best_model_PCA_400.hdf5\n",
      "34/34 [==============================] - 0s 5ms/step - loss: 0.3152 - accuracy: 0.9988 - val_loss: 5.0935 - val_accuracy: 0.9906\n",
      "Epoch 36/100\n",
      "30/34 [=========================>....] - ETA: 0s - loss: 0.8076 - accuracy: 0.9980  \n",
      "Epoch 00036: saving model to best_model_PCA_400.hdf5\n",
      "34/34 [==============================] - 0s 6ms/step - loss: 0.7155 - accuracy: 0.9982 - val_loss: 1.2144 - val_accuracy: 0.9953\n",
      "Epoch 37/100\n",
      "32/34 [===========================>..] - ETA: 0s - loss: 0.6203 - accuracy: 0.9987  \n",
      "Epoch 00037: saving model to best_model_PCA_400.hdf5\n",
      "34/34 [==============================] - 0s 5ms/step - loss: 0.5862 - accuracy: 0.9988 - val_loss: 0.6594 - val_accuracy: 0.9976\n",
      "Epoch 38/100\n",
      "33/34 [============================>.] - ETA: 0s - loss: 0.1833 - accuracy: 0.9994  \n",
      "Epoch 00038: saving model to best_model_PCA_400.hdf5\n",
      "34/34 [==============================] - 0s 5ms/step - loss: 0.1786 - accuracy: 0.9994 - val_loss: 4.1912 - val_accuracy: 0.9929\n",
      "Epoch 39/100\n",
      "33/34 [============================>.] - ETA: 0s - loss: 0.0000e+00 - accuracy: 1.0000\n",
      "Epoch 00039: saving model to best_model_PCA_400.hdf5\n",
      "34/34 [==============================] - 0s 5ms/step - loss: 0.0000e+00 - accuracy: 1.0000 - val_loss: 5.2602 - val_accuracy: 0.9929\n",
      "Epoch 40/100\n",
      "34/34 [==============================] - ETA: 0s - loss: 1.2156 - accuracy: 0.9988  \n",
      "Epoch 00040: saving model to best_model_PCA_400.hdf5\n",
      "34/34 [==============================] - 0s 5ms/step - loss: 1.2156 - accuracy: 0.9988 - val_loss: 2.0413 - val_accuracy: 0.9976\n",
      "Epoch 41/100\n",
      "33/34 [============================>.] - ETA: 0s - loss: 0.0000e+00 - accuracy: 1.0000\n",
      "Epoch 00041: saving model to best_model_PCA_400.hdf5\n",
      "34/34 [==============================] - 0s 5ms/step - loss: 0.0000e+00 - accuracy: 1.0000 - val_loss: 3.0017 - val_accuracy: 0.9953\n",
      "Epoch 42/100\n",
      "33/34 [============================>.] - ETA: 0s - loss: 0.0000e+00 - accuracy: 1.0000\n",
      "Epoch 00042: saving model to best_model_PCA_400.hdf5\n",
      "34/34 [==============================] - 0s 5ms/step - loss: 0.0000e+00 - accuracy: 1.0000 - val_loss: 3.0337 - val_accuracy: 0.9953\n",
      "Epoch 43/100\n",
      "34/34 [==============================] - ETA: 0s - loss: 0.0000e+00 - accuracy: 1.0000\n",
      "Epoch 00043: saving model to best_model_PCA_400.hdf5\n",
      "34/34 [==============================] - 0s 5ms/step - loss: 0.0000e+00 - accuracy: 1.0000 - val_loss: 3.0346 - val_accuracy: 0.9953\n",
      "Epoch 44/100\n",
      "34/34 [==============================] - ETA: 0s - loss: 0.0000e+00 - accuracy: 1.0000\n",
      "Epoch 00044: saving model to best_model_PCA_400.hdf5\n",
      "34/34 [==============================] - 0s 5ms/step - loss: 0.0000e+00 - accuracy: 1.0000 - val_loss: 3.0346 - val_accuracy: 0.9953\n",
      "Epoch 45/100\n",
      "32/34 [===========================>..] - ETA: 0s - loss: 0.0000e+00 - accuracy: 1.0000\n",
      "Epoch 00045: saving model to best_model_PCA_400.hdf5\n",
      "34/34 [==============================] - 0s 6ms/step - loss: 0.0000e+00 - accuracy: 1.0000 - val_loss: 3.0346 - val_accuracy: 0.9953\n",
      "Epoch 46/100\n",
      "31/34 [==========================>...] - ETA: 0s - loss: 0.0000e+00 - accuracy: 1.0000\n",
      "Epoch 00046: saving model to best_model_PCA_400.hdf5\n",
      "34/34 [==============================] - 0s 6ms/step - loss: 0.0000e+00 - accuracy: 1.0000 - val_loss: 3.0346 - val_accuracy: 0.9953\n",
      "Epoch 47/100\n",
      "31/34 [==========================>...] - ETA: 0s - loss: 0.0000e+00 - accuracy: 1.0000\n",
      "Epoch 00047: saving model to best_model_PCA_400.hdf5\n",
      "34/34 [==============================] - 0s 6ms/step - loss: 0.0000e+00 - accuracy: 1.0000 - val_loss: 3.0346 - val_accuracy: 0.9953\n",
      "Epoch 48/100\n",
      "31/34 [==========================>...] - ETA: 0s - loss: 0.0000e+00 - accuracy: 1.0000\n",
      "Epoch 00048: saving model to best_model_PCA_400.hdf5\n",
      "34/34 [==============================] - 0s 6ms/step - loss: 0.0000e+00 - accuracy: 1.0000 - val_loss: 3.0346 - val_accuracy: 0.9953\n",
      "Epoch 49/100\n",
      "31/34 [==========================>...] - ETA: 0s - loss: 0.0000e+00 - accuracy: 1.0000\n",
      "Epoch 00049: saving model to best_model_PCA_400.hdf5\n",
      "34/34 [==============================] - 0s 6ms/step - loss: 0.0000e+00 - accuracy: 1.0000 - val_loss: 3.0346 - val_accuracy: 0.9953\n",
      "Epoch 50/100\n",
      "32/34 [===========================>..] - ETA: 0s - loss: 0.0000e+00 - accuracy: 1.0000\n",
      "Epoch 00050: saving model to best_model_PCA_400.hdf5\n",
      "34/34 [==============================] - 0s 6ms/step - loss: 0.0000e+00 - accuracy: 1.0000 - val_loss: 3.0346 - val_accuracy: 0.9953\n",
      "Epoch 51/100\n",
      "31/34 [==========================>...] - ETA: 0s - loss: 0.0000e+00 - accuracy: 1.0000\n",
      "Epoch 00051: saving model to best_model_PCA_400.hdf5\n",
      "34/34 [==============================] - 0s 6ms/step - loss: 0.0000e+00 - accuracy: 1.0000 - val_loss: 3.0346 - val_accuracy: 0.9953\n",
      "Epoch 52/100\n",
      "32/34 [===========================>..] - ETA: 0s - loss: 0.0000e+00 - accuracy: 1.0000\n",
      "Epoch 00052: saving model to best_model_PCA_400.hdf5\n",
      "34/34 [==============================] - 0s 5ms/step - loss: 0.0000e+00 - accuracy: 1.0000 - val_loss: 3.0346 - val_accuracy: 0.9953\n",
      "Epoch 53/100\n",
      "33/34 [============================>.] - ETA: 0s - loss: 0.0000e+00 - accuracy: 1.0000\n",
      "Epoch 00053: saving model to best_model_PCA_400.hdf5\n",
      "34/34 [==============================] - 0s 5ms/step - loss: 0.0000e+00 - accuracy: 1.0000 - val_loss: 3.0346 - val_accuracy: 0.9953\n",
      "Epoch 54/100\n",
      "31/34 [==========================>...] - ETA: 0s - loss: 0.0000e+00 - accuracy: 1.0000\n",
      "Epoch 00054: saving model to best_model_PCA_400.hdf5\n",
      "34/34 [==============================] - 0s 6ms/step - loss: 0.0000e+00 - accuracy: 1.0000 - val_loss: 3.0346 - val_accuracy: 0.9953\n",
      "Epoch 55/100\n",
      "33/34 [============================>.] - ETA: 0s - loss: 0.0000e+00 - accuracy: 1.0000\n",
      "Epoch 00055: saving model to best_model_PCA_400.hdf5\n",
      "34/34 [==============================] - 0s 5ms/step - loss: 0.0000e+00 - accuracy: 1.0000 - val_loss: 3.0346 - val_accuracy: 0.9953\n",
      "Epoch 56/100\n",
      "31/34 [==========================>...] - ETA: 0s - loss: 0.0000e+00 - accuracy: 1.0000\n",
      "Epoch 00056: saving model to best_model_PCA_400.hdf5\n",
      "34/34 [==============================] - 0s 6ms/step - loss: 0.0000e+00 - accuracy: 1.0000 - val_loss: 3.0346 - val_accuracy: 0.9953\n",
      "Epoch 57/100\n",
      "29/34 [========================>.....] - ETA: 0s - loss: 0.0000e+00 - accuracy: 1.0000\n",
      "Epoch 00057: saving model to best_model_PCA_400.hdf5\n",
      "34/34 [==============================] - 0s 6ms/step - loss: 0.0000e+00 - accuracy: 1.0000 - val_loss: 3.0346 - val_accuracy: 0.9953\n",
      "Epoch 58/100\n",
      "33/34 [============================>.] - ETA: 0s - loss: 0.0000e+00 - accuracy: 1.0000\n",
      "Epoch 00058: saving model to best_model_PCA_400.hdf5\n",
      "34/34 [==============================] - 0s 6ms/step - loss: 0.0000e+00 - accuracy: 1.0000 - val_loss: 3.0346 - val_accuracy: 0.9953\n",
      "Epoch 59/100\n",
      "33/34 [============================>.] - ETA: 0s - loss: 0.0000e+00 - accuracy: 1.0000\n",
      "Epoch 00059: saving model to best_model_PCA_400.hdf5\n",
      "34/34 [==============================] - 0s 5ms/step - loss: 0.0000e+00 - accuracy: 1.0000 - val_loss: 3.0346 - val_accuracy: 0.9953\n",
      "Epoch 60/100\n",
      "34/34 [==============================] - ETA: 0s - loss: 0.0000e+00 - accuracy: 1.0000\n",
      "Epoch 00060: saving model to best_model_PCA_400.hdf5\n",
      "34/34 [==============================] - 0s 5ms/step - loss: 0.0000e+00 - accuracy: 1.0000 - val_loss: 3.0346 - val_accuracy: 0.9953\n",
      "Epoch 61/100\n",
      "33/34 [============================>.] - ETA: 0s - loss: 0.0000e+00 - accuracy: 1.0000\n",
      "Epoch 00061: saving model to best_model_PCA_400.hdf5\n",
      "34/34 [==============================] - 0s 5ms/step - loss: 0.0000e+00 - accuracy: 1.0000 - val_loss: 3.0346 - val_accuracy: 0.9953\n",
      "Epoch 62/100\n",
      "34/34 [==============================] - ETA: 0s - loss: 0.0000e+00 - accuracy: 1.0000\n",
      "Epoch 00062: saving model to best_model_PCA_400.hdf5\n",
      "34/34 [==============================] - 0s 5ms/step - loss: 0.0000e+00 - accuracy: 1.0000 - val_loss: 3.0346 - val_accuracy: 0.9953\n",
      "Epoch 63/100\n",
      "34/34 [==============================] - ETA: 0s - loss: 0.0000e+00 - accuracy: 1.0000\n",
      "Epoch 00063: saving model to best_model_PCA_400.hdf5\n",
      "34/34 [==============================] - 0s 5ms/step - loss: 0.0000e+00 - accuracy: 1.0000 - val_loss: 3.0346 - val_accuracy: 0.9953\n",
      "Epoch 64/100\n",
      "33/34 [============================>.] - ETA: 0s - loss: 0.0000e+00 - accuracy: 1.0000\n",
      "Epoch 00064: saving model to best_model_PCA_400.hdf5\n",
      "34/34 [==============================] - 0s 5ms/step - loss: 0.0000e+00 - accuracy: 1.0000 - val_loss: 3.0346 - val_accuracy: 0.9953\n",
      "Epoch 65/100\n",
      "34/34 [==============================] - ETA: 0s - loss: 0.0000e+00 - accuracy: 1.0000\n",
      "Epoch 00065: saving model to best_model_PCA_400.hdf5\n",
      "34/34 [==============================] - 0s 5ms/step - loss: 0.0000e+00 - accuracy: 1.0000 - val_loss: 3.0346 - val_accuracy: 0.9953\n",
      "Epoch 66/100\n",
      "18/34 [==============>...............] - ETA: 0s - loss: 0.0000e+00 - accuracy: 1.0000\n",
      "Epoch 00066: saving model to best_model_PCA_400.hdf5\n",
      "34/34 [==============================] - 0s 5ms/step - loss: 0.0000e+00 - accuracy: 1.0000 - val_loss: 3.0346 - val_accuracy: 0.9953\n",
      "Epoch 67/100\n",
      "32/34 [===========================>..] - ETA: 0s - loss: 0.0000e+00 - accuracy: 1.0000\n",
      "Epoch 00067: saving model to best_model_PCA_400.hdf5\n",
      "34/34 [==============================] - 0s 5ms/step - loss: 0.0000e+00 - accuracy: 1.0000 - val_loss: 3.0346 - val_accuracy: 0.9953\n",
      "Epoch 68/100\n",
      "17/34 [==============>...............] - ETA: 0s - loss: 0.0000e+00 - accuracy: 1.0000\n",
      "Epoch 00068: saving model to best_model_PCA_400.hdf5\n",
      "34/34 [==============================] - 0s 5ms/step - loss: 0.0000e+00 - accuracy: 1.0000 - val_loss: 3.0346 - val_accuracy: 0.9953\n",
      "Epoch 69/100\n",
      "34/34 [==============================] - ETA: 0s - loss: 0.0000e+00 - accuracy: 1.0000\n",
      "Epoch 00069: saving model to best_model_PCA_400.hdf5\n",
      "34/34 [==============================] - 0s 5ms/step - loss: 0.0000e+00 - accuracy: 1.0000 - val_loss: 3.0346 - val_accuracy: 0.9953\n",
      "Epoch 70/100\n",
      "31/34 [==========================>...] - ETA: 0s - loss: 0.0000e+00 - accuracy: 1.0000\n",
      "Epoch 00070: saving model to best_model_PCA_400.hdf5\n",
      "34/34 [==============================] - 0s 5ms/step - loss: 0.0000e+00 - accuracy: 1.0000 - val_loss: 3.0346 - val_accuracy: 0.9953\n",
      "Epoch 71/100\n",
      "34/34 [==============================] - ETA: 0s - loss: 0.0000e+00 - accuracy: 1.0000\n",
      "Epoch 00071: saving model to best_model_PCA_400.hdf5\n",
      "34/34 [==============================] - 0s 5ms/step - loss: 0.0000e+00 - accuracy: 1.0000 - val_loss: 3.0346 - val_accuracy: 0.9953\n",
      "Epoch 72/100\n",
      "32/34 [===========================>..] - ETA: 0s - loss: 0.0000e+00 - accuracy: 1.0000\n",
      "Epoch 00072: saving model to best_model_PCA_400.hdf5\n",
      "34/34 [==============================] - 0s 5ms/step - loss: 0.0000e+00 - accuracy: 1.0000 - val_loss: 3.0346 - val_accuracy: 0.9953\n",
      "Epoch 73/100\n",
      "33/34 [============================>.] - ETA: 0s - loss: 0.0000e+00 - accuracy: 1.0000\n",
      "Epoch 00073: saving model to best_model_PCA_400.hdf5\n",
      "34/34 [==============================] - 0s 6ms/step - loss: 0.0000e+00 - accuracy: 1.0000 - val_loss: 3.0346 - val_accuracy: 0.9953\n",
      "Epoch 74/100\n",
      "33/34 [============================>.] - ETA: 0s - loss: 0.0000e+00 - accuracy: 1.0000\n",
      "Epoch 00074: saving model to best_model_PCA_400.hdf5\n",
      "34/34 [==============================] - 0s 5ms/step - loss: 0.0000e+00 - accuracy: 1.0000 - val_loss: 3.0346 - val_accuracy: 0.9953\n",
      "Epoch 75/100\n",
      "32/34 [===========================>..] - ETA: 0s - loss: 0.0000e+00 - accuracy: 1.0000\n",
      "Epoch 00075: saving model to best_model_PCA_400.hdf5\n",
      "34/34 [==============================] - 0s 5ms/step - loss: 0.0000e+00 - accuracy: 1.0000 - val_loss: 3.0346 - val_accuracy: 0.9953\n",
      "Epoch 76/100\n",
      "33/34 [============================>.] - ETA: 0s - loss: 0.0000e+00 - accuracy: 1.0000\n",
      "Epoch 00076: saving model to best_model_PCA_400.hdf5\n",
      "34/34 [==============================] - 0s 5ms/step - loss: 0.0000e+00 - accuracy: 1.0000 - val_loss: 3.0346 - val_accuracy: 0.9953\n",
      "Epoch 77/100\n",
      "33/34 [============================>.] - ETA: 0s - loss: 0.0000e+00 - accuracy: 1.0000\n",
      "Epoch 00077: saving model to best_model_PCA_400.hdf5\n",
      "34/34 [==============================] - 0s 5ms/step - loss: 0.0000e+00 - accuracy: 1.0000 - val_loss: 3.0346 - val_accuracy: 0.9953\n",
      "Epoch 78/100\n",
      "32/34 [===========================>..] - ETA: 0s - loss: 0.0000e+00 - accuracy: 1.0000\n",
      "Epoch 00078: saving model to best_model_PCA_400.hdf5\n",
      "34/34 [==============================] - 0s 5ms/step - loss: 0.0000e+00 - accuracy: 1.0000 - val_loss: 3.0346 - val_accuracy: 0.9953\n",
      "Epoch 79/100\n",
      "33/34 [============================>.] - ETA: 0s - loss: 0.0000e+00 - accuracy: 1.0000\n",
      "Epoch 00079: saving model to best_model_PCA_400.hdf5\n",
      "34/34 [==============================] - 0s 5ms/step - loss: 0.0000e+00 - accuracy: 1.0000 - val_loss: 3.0346 - val_accuracy: 0.9953\n",
      "Epoch 80/100\n",
      "34/34 [==============================] - ETA: 0s - loss: 0.0000e+00 - accuracy: 1.0000\n",
      "Epoch 00080: saving model to best_model_PCA_400.hdf5\n",
      "34/34 [==============================] - 0s 5ms/step - loss: 0.0000e+00 - accuracy: 1.0000 - val_loss: 3.0346 - val_accuracy: 0.9953\n",
      "Epoch 81/100\n",
      "34/34 [==============================] - ETA: 0s - loss: 0.0000e+00 - accuracy: 1.0000\n",
      "Epoch 00081: saving model to best_model_PCA_400.hdf5\n",
      "34/34 [==============================] - 0s 5ms/step - loss: 0.0000e+00 - accuracy: 1.0000 - val_loss: 3.0346 - val_accuracy: 0.9953\n",
      "Epoch 82/100\n",
      "34/34 [==============================] - ETA: 0s - loss: 0.0000e+00 - accuracy: 1.0000\n",
      "Epoch 00082: saving model to best_model_PCA_400.hdf5\n",
      "34/34 [==============================] - 0s 5ms/step - loss: 0.0000e+00 - accuracy: 1.0000 - val_loss: 3.0346 - val_accuracy: 0.9953\n",
      "Epoch 83/100\n",
      "34/34 [==============================] - ETA: 0s - loss: 0.0000e+00 - accuracy: 1.0000\n",
      "Epoch 00083: saving model to best_model_PCA_400.hdf5\n",
      "34/34 [==============================] - 0s 5ms/step - loss: 0.0000e+00 - accuracy: 1.0000 - val_loss: 3.0346 - val_accuracy: 0.9953\n",
      "Epoch 84/100\n",
      "33/34 [============================>.] - ETA: 0s - loss: 0.0000e+00 - accuracy: 1.0000\n",
      "Epoch 00084: saving model to best_model_PCA_400.hdf5\n",
      "34/34 [==============================] - 0s 5ms/step - loss: 0.0000e+00 - accuracy: 1.0000 - val_loss: 3.0346 - val_accuracy: 0.9953\n",
      "Epoch 85/100\n",
      "33/34 [============================>.] - ETA: 0s - loss: 0.0000e+00 - accuracy: 1.0000\n",
      "Epoch 00085: saving model to best_model_PCA_400.hdf5\n",
      "34/34 [==============================] - 0s 5ms/step - loss: 0.0000e+00 - accuracy: 1.0000 - val_loss: 3.0346 - val_accuracy: 0.9953\n",
      "Epoch 86/100\n",
      "32/34 [===========================>..] - ETA: 0s - loss: 0.0000e+00 - accuracy: 1.0000\n",
      "Epoch 00086: saving model to best_model_PCA_400.hdf5\n",
      "34/34 [==============================] - 0s 5ms/step - loss: 0.0000e+00 - accuracy: 1.0000 - val_loss: 3.0346 - val_accuracy: 0.9953\n",
      "Epoch 87/100\n",
      "33/34 [============================>.] - ETA: 0s - loss: 0.0000e+00 - accuracy: 1.0000\n",
      "Epoch 00087: saving model to best_model_PCA_400.hdf5\n",
      "34/34 [==============================] - 0s 5ms/step - loss: 0.0000e+00 - accuracy: 1.0000 - val_loss: 3.0346 - val_accuracy: 0.9953\n",
      "Epoch 88/100\n",
      "17/34 [==============>...............] - ETA: 0s - loss: 0.0000e+00 - accuracy: 1.0000\n",
      "Epoch 00088: saving model to best_model_PCA_400.hdf5\n",
      "34/34 [==============================] - 0s 5ms/step - loss: 0.0000e+00 - accuracy: 1.0000 - val_loss: 3.0346 - val_accuracy: 0.9953\n",
      "Epoch 89/100\n",
      "31/34 [==========================>...] - ETA: 0s - loss: 0.0000e+00 - accuracy: 1.0000\n",
      "Epoch 00089: saving model to best_model_PCA_400.hdf5\n",
      "34/34 [==============================] - 0s 5ms/step - loss: 0.0000e+00 - accuracy: 1.0000 - val_loss: 3.0346 - val_accuracy: 0.9953\n",
      "Epoch 90/100\n",
      "33/34 [============================>.] - ETA: 0s - loss: 0.0000e+00 - accuracy: 1.0000\n",
      "Epoch 00090: saving model to best_model_PCA_400.hdf5\n",
      "34/34 [==============================] - 0s 5ms/step - loss: 0.0000e+00 - accuracy: 1.0000 - val_loss: 3.0346 - val_accuracy: 0.9953\n",
      "Epoch 91/100\n",
      "34/34 [==============================] - ETA: 0s - loss: 0.0000e+00 - accuracy: 1.0000\n",
      "Epoch 00091: saving model to best_model_PCA_400.hdf5\n",
      "34/34 [==============================] - 0s 5ms/step - loss: 0.0000e+00 - accuracy: 1.0000 - val_loss: 3.0346 - val_accuracy: 0.9953\n",
      "Epoch 92/100\n",
      "28/34 [=======================>......] - ETA: 0s - loss: 0.0000e+00 - accuracy: 1.0000\n",
      "Epoch 00092: saving model to best_model_PCA_400.hdf5\n",
      "34/34 [==============================] - 0s 7ms/step - loss: 0.0000e+00 - accuracy: 1.0000 - val_loss: 3.0346 - val_accuracy: 0.9953\n",
      "Epoch 93/100\n",
      "34/34 [==============================] - ETA: 0s - loss: 0.0000e+00 - accuracy: 1.0000\n",
      "Epoch 00093: saving model to best_model_PCA_400.hdf5\n",
      "34/34 [==============================] - 0s 7ms/step - loss: 0.0000e+00 - accuracy: 1.0000 - val_loss: 3.0346 - val_accuracy: 0.9953\n",
      "Epoch 94/100\n",
      "31/34 [==========================>...] - ETA: 0s - loss: 0.0000e+00 - accuracy: 1.0000\n",
      "Epoch 00094: saving model to best_model_PCA_400.hdf5\n",
      "34/34 [==============================] - 0s 6ms/step - loss: 0.0000e+00 - accuracy: 1.0000 - val_loss: 3.0346 - val_accuracy: 0.9953\n",
      "Epoch 95/100\n",
      "31/34 [==========================>...] - ETA: 0s - loss: 0.0000e+00 - accuracy: 1.0000\n",
      "Epoch 00095: saving model to best_model_PCA_400.hdf5\n",
      "34/34 [==============================] - 0s 6ms/step - loss: 0.0000e+00 - accuracy: 1.0000 - val_loss: 3.0346 - val_accuracy: 0.9953\n",
      "Epoch 96/100\n",
      "32/34 [===========================>..] - ETA: 0s - loss: 0.0000e+00 - accuracy: 1.0000\n",
      "Epoch 00096: saving model to best_model_PCA_400.hdf5\n",
      "34/34 [==============================] - 0s 6ms/step - loss: 0.0000e+00 - accuracy: 1.0000 - val_loss: 3.0346 - val_accuracy: 0.9953\n",
      "Epoch 97/100\n",
      "32/34 [===========================>..] - ETA: 0s - loss: 0.0000e+00 - accuracy: 1.0000\n",
      "Epoch 00097: saving model to best_model_PCA_400.hdf5\n",
      "34/34 [==============================] - 0s 5ms/step - loss: 0.0000e+00 - accuracy: 1.0000 - val_loss: 3.0346 - val_accuracy: 0.9953\n",
      "Epoch 98/100\n",
      "32/34 [===========================>..] - ETA: 0s - loss: 0.0000e+00 - accuracy: 1.0000\n",
      "Epoch 00098: saving model to best_model_PCA_400.hdf5\n",
      "34/34 [==============================] - 0s 5ms/step - loss: 0.0000e+00 - accuracy: 1.0000 - val_loss: 3.0346 - val_accuracy: 0.9953\n",
      "Epoch 99/100\n",
      "32/34 [===========================>..] - ETA: 0s - loss: 0.0000e+00 - accuracy: 1.0000\n",
      "Epoch 00099: saving model to best_model_PCA_400.hdf5\n",
      "34/34 [==============================] - 0s 6ms/step - loss: 0.0000e+00 - accuracy: 1.0000 - val_loss: 3.0346 - val_accuracy: 0.9953\n",
      "Epoch 100/100\n",
      "29/34 [========================>.....] - ETA: 0s - loss: 0.0000e+00 - accuracy: 1.0000\n",
      "Epoch 00100: saving model to best_model_PCA_400.hdf5\n",
      "34/34 [==============================] - 0s 6ms/step - loss: 0.0000e+00 - accuracy: 1.0000 - val_loss: 3.0346 - val_accuracy: 0.9953\n"
     ]
    }
   ],
   "source": [
    "filepath = 'best_model_PCA_400.hdf5'\n",
    "mc = ModelCheckpoint(filepath = filepath, monitor = 'val_accuracy', save_only_best = True, verbose = 1)\n",
    "\n",
    "start = time.time()\n",
    "history = nn.fit(x_train, y_train, epochs = 100, validation_split = 0.2, batch_size = 50, callbacks = [mc])\n",
    "end = time.time()"
   ]
  },
  {
   "cell_type": "code",
   "execution_count": 37,
   "metadata": {},
   "outputs": [
    {
     "name": "stdout",
     "output_type": "stream",
     "text": [
      "[0. 0. 1. 0. 0. 0.]\n"
     ]
    },
    {
     "data": {
      "text/plain": [
       "<matplotlib.image.AxesImage at 0x1d7cc01ccd0>"
      ]
     },
     "execution_count": 37,
     "metadata": {},
     "output_type": "execute_result"
    },
    {
     "data": {
      "image/png": "[encoded data removed]",
      "text/plain": [
       "<Figure size 432x288 with 1 Axes>"
      ]
     },
     "metadata": {
      "needs_background": "light"
     },
     "output_type": "display_data"
    }
   ],
   "source": [
    "i = 160\n",
    "print(y_test[i])\n",
    "projected = pca.inverse_transform(x_test)\n",
    "plt.imshow(projected[i].reshape(320,320),cmap = plt.cm.bone)"
   ]
  },
  {
   "cell_type": "code",
   "execution_count": 38,
   "metadata": {},
   "outputs": [
    {
     "name": "stdout",
     "output_type": "stream",
     "text": [
      "17/17 [==============================] - 0s 2ms/step - loss: 3.4910 - accuracy: 0.9943\n"
     ]
    },
    {
     "data": {
      "text/plain": [
       "[3.49100399017334, 0.994339644908905]"
      ]
     },
     "execution_count": 38,
     "metadata": {},
     "output_type": "execute_result"
    }
   ],
   "source": [
    "nn.evaluate(x_test, y_test)"
   ]
  },
  {
   "cell_type": "markdown",
   "metadata": {},
   "source": [
    "### **Testing on Live Image**"
   ]
  },
  {
   "cell_type": "code",
   "execution_count": 48,
   "metadata": {},
   "outputs": [],
   "source": [
    "outputs = ['fist', 'thumbs up', 'yo', 'five', 'two', 'blank']\n",
    "cap = cv2.VideoCapture(0)\n",
    "cap.set(3, 480)\n",
    "cap.set(4, 640)\n",
    "while(True):\n",
    "    ret, frame = cap.read()\n",
    "    temp = np.array(frame)\n",
    "    sub = temp[0:320, 320:640, :].copy()\n",
    "    cv2.rectangle(temp, (320, 0), (640, 320), (255,255,255), 1)\n",
    "    \n",
    "    colorSep = cv2.cvtColor(sub, cv2.COLOR_BGR2HSV)\n",
    "    skinLowRange = np.array([0,20,70], dtype=np.uint8)\n",
    "    skinUpRange = np.array([20,255,255], dtype=np.uint8)\n",
    "    skin = cv2.inRange(colorSep, skinLowRange, skinUpRange)\n",
    "    skin = cv2.GaussianBlur(skin, (3, 3), 100)\n",
    "    \n",
    "    cv2.imshow('skin', skin)\n",
    "    \n",
    "    skin = skin.reshape(1,320*320)\n",
    "    skin = pca.transform(skin)\n",
    "    pred = nn.predict(skin)\n",
    "    if pred[0][0] >= 0.9: text = outputs[0]\n",
    "    elif pred[0][1] >= 0.9: text = outputs[1]\n",
    "    elif pred[0][2] >= 0.9: text = outputs[2]\n",
    "    elif pred[0][3] >= 0.9: text = outputs[3]\n",
    "    elif pred[0][4] >= 0.9: text = outputs[4]\n",
    "    elif pred[0][5] >= 0.9: text = outputs[5]\n",
    "        \n",
    "    cv2.putText(sub, text, (50, 50),cv2.FONT_HERSHEY_SIMPLEX, 1, (0, 255, 255), 2, cv2.LINE_4)\n",
    "    \n",
    "    cv2.imshow('Hand Placement', sub)\n",
    "    cv2.imshow('Camera', temp)\n",
    "    if cv2.waitKey(1) & 0xFF == ord('q'):\n",
    "        break\n",
    "cap.release()\n",
    "cv2.destroyAllWindows()"
   ]
  }
 ],
 "metadata": {
  "kernelspec": {
   "display_name": "Python 3",
   "language": "python",
   "name": "python3"
  },
  "language_info": {
   "codemirror_mode": {
    "name": "ipython",
    "version": 3
   },
   "file_extension": ".py",
   "mimetype": "text/x-python",
   "name": "python",
   "nbconvert_exporter": "python",
   "pygments_lexer": "ipython3",
   "version": "3.8.3"
  }
 },
 "nbformat": 4,
 "nbformat_minor": 4
}
