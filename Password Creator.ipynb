{
 "cells": [
  {
   "cell_type": "code",
   "execution_count": 1,
   "metadata": {},
   "outputs": [],
   "source": [
    "from cryptography.fernet import Fernet\n",
    "import os"
   ]
  },
  {
   "cell_type": "code",
   "execution_count": 2,
   "metadata": {},
   "outputs": [],
   "source": [
    "''' Generating a Key and Saving It '''\n",
    "lock = Fernet.generate_key()\n",
    "\n",
    "file = open('lock.key', 'wb') \n",
    "file.write(lock)\n",
    "\n",
    "file.write(b'\\nfist thumbs two five')\n",
    "file.close()\n",
    "\n",
    "\n",
    "''' Encrypting The URL and Saving it to Text File'''\n",
    "vault = 'https://drive.google.com/drive/folders/1CW79vzAX3ec5ROaL6jbBA3HezuihxSpP?usp=sharing'\n",
    "key = Fernet(lock)\n",
    "temp = key.encrypt(vault.encode())\n",
    "site = temp.decode()\n",
    "\n",
    "file = open('key.txt', 'w')\n",
    "file.write(site)\n",
    "file.close()"
   ]
  },
  {
   "cell_type": "code",
   "execution_count": 4,
   "metadata": {},
   "outputs": [
    {
     "data": {
      "text/plain": [
       "'https://drive.google.com/drive/folders/1CW79vzAX3ec5ROaL6jbBA3HezuihxSpP?usp=sharing'"
      ]
     },
     "execution_count": 4,
     "metadata": {},
     "output_type": "execute_result"
    }
   ],
   "source": [
    "'''Loading Encrypted Folder Path'''\n",
    "file = open('key.txt', 'r')\n",
    "temp = file.readlines()\n",
    "unlock = temp[0].encode()\n",
    "\n",
    "'''Loading The Password'''\n",
    "file = open('lock.key', 'rb')\n",
    "temp = file.readlines()\n",
    "password = temp[0].decode()[:-1].encode()\n",
    "password\n",
    "\n",
    "lock = Fernet(password)\n",
    "lock.decrypt(unlock).decode()"
   ]
  }
 ],
 "metadata": {
  "kernelspec": {
   "display_name": "Python 3",
   "language": "python",
   "name": "python3"
  },
  "language_info": {
   "codemirror_mode": {
    "name": "ipython",
    "version": 3
   },
   "file_extension": ".py",
   "mimetype": "text/x-python",
   "name": "python",
   "nbconvert_exporter": "python",
   "pygments_lexer": "ipython3",
   "version": "3.7.6"
  },
  "toc": {
   "base_numbering": 1,
   "nav_menu": {},
   "number_sections": true,
   "sideBar": true,
   "skip_h1_title": true,
   "title_cell": "Table of Contents",
   "title_sidebar": "Contents",
   "toc_cell": false,
   "toc_position": {},
   "toc_section_display": true,
   "toc_window_display": false
  }
 },
 "nbformat": 4,
 "nbformat_minor": 4
}
