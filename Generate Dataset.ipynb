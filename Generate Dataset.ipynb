{
 "cells": [
  {
   "cell_type": "code",
   "execution_count": 1,
   "metadata": {},
   "outputs": [],
   "source": [
    "import cv2\n",
    "import numpy as np\n",
    "import pandas as pd\n",
    "import matplotlib as plt\n",
    "\n",
    "from sklearn.preprocessing import StandardScaler\n",
    "from keras.models import load_model"
   ]
  },
  {
   "cell_type": "code",
   "execution_count": 3,
   "metadata": {},
   "outputs": [
    {
     "ename": "KeyboardInterrupt",
     "evalue": "",
     "output_type": "error",
     "traceback": [
      "\u001b[0;31m---------------------------------------------------------------------------\u001b[0m",
      "\u001b[0;31mKeyboardInterrupt\u001b[0m                         Traceback (most recent call last)",
      "\u001b[0;32m<ipython-input-3-cdc2172fa14d>\u001b[0m in \u001b[0;36m<module>\u001b[0;34m\u001b[0m\n\u001b[1;32m     42\u001b[0m     \u001b[0mcv2\u001b[0m\u001b[0;34m.\u001b[0m\u001b[0mimshow\u001b[0m\u001b[0;34m(\u001b[0m\u001b[0;34m'skin'\u001b[0m\u001b[0;34m,\u001b[0m \u001b[0mskin\u001b[0m\u001b[0;34m)\u001b[0m\u001b[0;34m\u001b[0m\u001b[0;34m\u001b[0m\u001b[0m\n\u001b[1;32m     43\u001b[0m     \u001b[0mcv2\u001b[0m\u001b[0;34m.\u001b[0m\u001b[0mimshow\u001b[0m\u001b[0;34m(\u001b[0m\u001b[0;34m'skin'\u001b[0m\u001b[0;34m,\u001b[0m \u001b[0mtemp\u001b[0m\u001b[0;34m)\u001b[0m\u001b[0;34m\u001b[0m\u001b[0;34m\u001b[0m\u001b[0m\n\u001b[0;32m---> 44\u001b[0;31m     \u001b[0mcv2\u001b[0m\u001b[0;34m.\u001b[0m\u001b[0mwaitKey\u001b[0m\u001b[0;34m(\u001b[0m\u001b[0;36m1000\u001b[0m\u001b[0;34m)\u001b[0m\u001b[0;34m\u001b[0m\u001b[0;34m\u001b[0m\u001b[0m\n\u001b[0m\u001b[1;32m     45\u001b[0m \u001b[0;34m\u001b[0m\u001b[0m\n\u001b[1;32m     46\u001b[0m     '''\n",
      "\u001b[0;31mKeyboardInterrupt\u001b[0m: "
     ]
    }
   ],
   "source": [
    "# Open the device at the ID 0\n",
    "cap = cv2.VideoCapture(0)\n",
    "# Check whether user selected camera is opened successfully.\n",
    "sc = StandardScaler()\n",
    "if not (cap.isOpened()):\n",
    "    print(\"Could not open video device\")\n",
    "\n",
    "\n",
    "# To set the resolution\n",
    "cap.set(3, 480)\n",
    "cap.set(4, 640)\n",
    "\n",
    "face_cascade = cv2.CascadeClassifier(cv2.data.haarcascades+'haarcascade_frontalface_default.xml')\n",
    "# hand_cascade = cv2.CascadeClassifier(cv2.data.haarcascades+'../aGest.xml')\n",
    "i = 124\n",
    "\n",
    "outputs = ['fist', 'thumbs up', 'yo']\n",
    "\n",
    "while(True):\n",
    "    # Capture frame-by-frame\n",
    "    ret, frame = cap.read()\n",
    "    \n",
    "    gray = cv2.cvtColor(frame, cv2.COLOR_BGR2GRAY)\n",
    "    temp = np.array(frame)\n",
    "    \n",
    "    cv2.rectangle(temp, (320, 0), (639, 320), (255, 0, 0), 1)\n",
    "    \n",
    "    sub = temp[0:320, 320:640, :].copy()\n",
    "    \n",
    "    colorSep = cv2.cvtColor(sub, cv2.COLOR_BGR2HSV)         \n",
    "    \n",
    "    # Define range of skin color in HSV\n",
    "    skinLowRange = np.array([0,20,70], dtype=np.uint8)\n",
    "    skinUpRange = np.array([20,255,255], dtype=np.uint8)\n",
    "    \n",
    "    # Creating a mask image with only skil colour, rest all images become 0\n",
    "    skin = cv2.inRange(colorSep, skinLowRange, skinUpRange)\n",
    "    \n",
    "    # Blurring the image to reduce noise\n",
    "    skin = cv2.GaussianBlur(skin, (3, 3), 100)\n",
    "    \n",
    "    cv2.imshow('skin', skin)\n",
    "    cv2.imshow('skin', temp)\n",
    "    cv2.waitKey(1000)\n",
    "    \n",
    "    '''\n",
    "    ../Project Attempt 2/Fist/Fist'+str(i)+'.jpg\n",
    "    Project Attempt 2 - The Folder Name where all your SM files are - MAKE SURE YOU KEEP IT THERE\n",
    "    Fist - It is the folder name for each class in the main SM folder\n",
    "    Fist+str(i)+.jpg - Each file name, so change the prefix for each class, i is for counter, so every unique image \n",
    "    is stored, and files are not overwritten.\n",
    "    \n",
    "    Right now it takes one photo every second, change that to whatever you want, 200 images per class.\n",
    "    Preferably - 100 right & 100 left\n",
    "    \n",
    "    Also there is no stop function is this, so you have to press stop manually.\n",
    "    '''\n",
    "    folder = '../Project Attempt 2/Yo/Yo'+str(i)+'.jpg'\n",
    "    i += 1\n",
    "    cv2.imwrite(folder, skin)"
   ]
  },
  {
   "cell_type": "code",
   "execution_count": null,
   "metadata": {},
   "outputs": [],
   "source": []
  }
 ],
 "metadata": {
  "kernelspec": {
   "display_name": "Python 3",
   "language": "python",
   "name": "python3"
  },
  "language_info": {
   "codemirror_mode": {
    "name": "ipython",
    "version": 3
   },
   "file_extension": ".py",
   "mimetype": "text/x-python",
   "name": "python",
   "nbconvert_exporter": "python",
   "pygments_lexer": "ipython3",
   "version": "3.7.6"
  },
  "toc": {
   "base_numbering": 1,
   "nav_menu": {},
   "number_sections": true,
   "sideBar": true,
   "skip_h1_title": true,
   "title_cell": "Table of Contents",
   "title_sidebar": "Contents",
   "toc_cell": false,
   "toc_position": {},
   "toc_section_display": true,
   "toc_window_display": false
  }
 },
 "nbformat": 4,
 "nbformat_minor": 4
}
